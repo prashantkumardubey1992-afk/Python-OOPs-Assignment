{
  "nbformat": 4,
  "nbformat_minor": 0,
  "metadata": {
    "colab": {
      "provenance": []
    },
    "kernelspec": {
      "name": "python3",
      "display_name": "Python 3"
    },
    "language_info": {
      "name": "python"
    }
  },
  "cells": [
    {
      "cell_type": "markdown",
      "source": [
        "#             Python OOPs-Assignment4"
      ],
      "metadata": {
        "id": "HiQ1GXVovx8a"
      }
    },
    {
      "cell_type": "markdown",
      "source": [
        "**Python OOPs**-**Theory Questions:-**"
      ],
      "metadata": {
        "id": "EgFM1nFgwMdi"
      }
    },
    {
      "cell_type": "markdown",
      "source": [
        "**Q1. What is Object-Oriented Programming(OOP)?**\n",
        "\n",
        ">>Object-Oriented Programming (OOP) is a programming paradigm based on the concept of “objects”, which can contain data (attributes) and\n",
        "code (methods).\n",
        "It focuses on organizing software into reusable, modular pieces instead of writing code in a linear (procedural) way.\n",
        "\n",
        ">>>***Key Concepts of OOP***\n",
        "\n",
        "> Class → Blueprint/template for creating objects.\n",
        "\n",
        "> Object → Instance of a class (real-world entity).\n",
        "\n",
        "   >Encapsulation → Binding data and methods together in a single unit.\n",
        "\n",
        " > Abstraction → Hiding unnecessary details and showing only the essential features.   \n",
        ">Inheritance → One class can acquire properties and methods of another class.\n",
        "\n",
        "> Polymorphism → Ability to use the same interface with different forms (method overriding & overloading).\n"
      ],
      "metadata": {
        "id": "mKzbSNV6wn7L"
      }
    },
    {
      "cell_type": "markdown",
      "source": [
        "**Example of oop**-"
      ],
      "metadata": {
        "id": "bEerCQd614gK"
      }
    },
    {
      "cell_type": "code",
      "metadata": {
        "colab": {
          "base_uri": "https://localhost:8080/"
        },
        "id": "c3005d6b",
        "outputId": "f0e8a90f-4ef2-49fd-ff5a-603c1f9020de"
      },
      "source": [
        "# Define a class\n",
        "class Dog:\n",
        "    # Constructor (initializer)\n",
        "    def __init__(self, name, age):\n",
        "        self.name = name  # Attribute\n",
        "        self.age = age    # Attribute\n",
        "\n",
        "    # Method\n",
        "    def bark(self):\n",
        "        print(f\"{self.name} says Woof!\")\n",
        "\n",
        "# Create an object of the Dog class\n",
        "my_dog = Dog(\"Buddy\", 3)\n",
        "\n",
        "# Access object attributes\n",
        "print(f\"My dog's name is {my_dog.name}\")\n",
        "print(f\"My dog's age is {my_dog.age}\")\n",
        "\n",
        "# Call object method\n",
        "my_dog.bark()"
      ],
      "execution_count": 2,
      "outputs": [
        {
          "output_type": "stream",
          "name": "stdout",
          "text": [
            "My dog's name is Buddy\n",
            "My dog's age is 3\n",
            "Buddy says Woof!\n"
          ]
        }
      ]
    },
    {
      "cell_type": "markdown",
      "source": [
        "**Q2. What is a Class in OOP?**\n",
        "\n",
        ">>A class in Object-Oriented Programming (OOP) is a blueprint or template that defines how to create objects.\n",
        "It describes the attributes (data/properties) and methods (functions/behaviors) that the objects of that class will have.\n",
        "\n",
        ">**Key Points**-\n",
        "\n",
        ">>**1**.**Blueprint Concept**\n",
        "Think of a class as a design/plan.\n",
        "\n",
        ">Example: An architect draws a blueprint of a house → but the actual house is built later.\n",
        "\n",
        ">>**2. Objects are Instances**\n",
        "Objects are real, usable things created from the class.\n",
        "\n",
        ">Example: If Car is a class (blueprint), then Tesla or BMW are actual objects (real cars).\n",
        "\n",
        ">>**3. Encapsulation of Data + Behavior**\n",
        "Classes combine attributes (variables) and methods (functions) into one unit.\n",
        "\n",
        ">Example: A Car has attributes like brand , model and methods like start() , brake() .\n",
        ">>**4. Reusability**\n",
        "Once a class is defined, you can create multiple objects without rewriting code.\n",
        "\n",
        ">Example: From one Car class, you can create car1 , car2 , car3 easily.\n",
        "\n",
        "**Example in python**-"
      ],
      "metadata": {
        "id": "0SyRjA1H2GH9"
      }
    },
    {
      "cell_type": "code",
      "source": [
        "# Defining a class\n",
        "class Car:\n",
        "    # Constructor (__init__) to initialize attributes\n",
        "    def __init__(self, brand, model):\n",
        "        self.brand = brand # attribute (variable)\n",
        "        self.model = model # attribute (variable)\n",
        "    # Method (function inside class)\n",
        "    def display_info(self):\n",
        "        return f\"{self.brand} {self.model}\"\n",
        "# Creating objects (instances of the class)\n",
        "car1 = Car(\"Tesla\", \"Model S\")\n",
        "car2 = Car(\"BMW\", \"X5\")\n",
        "# Using object methods\n",
        "print(car1.display_info())\n",
        "print(car2.display_info())"
      ],
      "metadata": {
        "colab": {
          "base_uri": "https://localhost:8080/"
        },
        "id": "WA8hIIEv7c5j",
        "outputId": "b8fd8f16-7730-4f79-93b3-4626b8c48941"
      },
      "execution_count": 4,
      "outputs": [
        {
          "output_type": "stream",
          "name": "stdout",
          "text": [
            "Tesla Model S\n",
            "BMW X5\n"
          ]
        }
      ]
    },
    {
      "cell_type": "markdown",
      "source": [
        "**Q3. What is an Object in OOP?**\n",
        "\n",
        ">>**An object in Object-Oriented Programming (OOP)** is a real-world entity or an instance of a class.\n",
        "It represents something that has state (data/attributes) and behavior (methods/functions).\n",
        "\n",
        "**Key Points about Objects:**\n",
        "1. **Instance of a Class**\n",
        "A class is like a blueprint, and an object is the actual product created from that blueprint.\n",
        "Example: If Car is a class, then Tesla Model S or BMW X5 are objects.\n",
        "2. **Has State and Behavior**\n",
        "State (attributes/variables): Describes the properties of the object.\n",
        "e.g., color = red , speed = 120 .\n",
        "Behavior (methods/functions): Describes what the object can do.\n",
        "e.g., drive() , brake() .\n",
        "3. **Multiple Objects from One Clas**s\n",
        "You can create many objects from the same class, each with its own data.\n",
        "Example: car1 , car2 , car3 all come from the Car class but can have different brands and models.\n",
        "\n",
        "**Example in Python:**\n",
        "\n"
      ],
      "metadata": {
        "id": "a26KmnXX79S3"
      }
    },
    {
      "cell_type": "code",
      "source": [
        "# Class definition\n",
        "class Car:\n",
        "    def __init__(self, brand, color):\n",
        "        self.brand = brand # attribute\n",
        "        self.color = color # attribute\n",
        "    def drive(self): # method\n",
        "        return f\"{self.brand} car is driving!\"\n",
        "# Creating objects (instances of Car)\n",
        "car1 = Car(\"Tesla\", \"Red\")\n",
        "car2 = Car(\"BMW\", \"Black\")\n",
        "# Accessing attributes and methods\n",
        "print(car1.brand)\n",
        "print(car2.color)\n",
        "print(car1.drive())"
      ],
      "metadata": {
        "colab": {
          "base_uri": "https://localhost:8080/"
        },
        "id": "j1VILy3y9myQ",
        "outputId": "178cf700-d3fd-459f-d62c-f32bf340ddbb"
      },
      "execution_count": 6,
      "outputs": [
        {
          "output_type": "stream",
          "name": "stdout",
          "text": [
            "Tesla\n",
            "Black\n",
            "Tesla car is driving!\n"
          ]
        }
      ]
    },
    {
      "cell_type": "markdown",
      "source": [
        "**Q4. What is the Difference between Abstraction and Encapsulation?**\n",
        "\n",
        ">>**the difference between Abstraction and Encapsulation:**\n",
        "\n",
        "**Abstraction focuses** on hiding the complex implementation details and showing only the essential features.\n",
        " It's about what an object does, not how it does it.\n",
        "\n",
        "**Encapsulation focuses** on bundling data (attributes) and the methods that operate on that data within a single unit (a class). It's about keeping the data and the methods that use it together and controlling access to the data.\n",
        "In simpler terms:\n",
        "\n",
        "**Abstraction:** Hide complexity\n",
        "\n",
        "**Encapsulation:** Bind data and methods\n",
        "Encapsulation is often used to achieve abstraction. By bundling data and methods within a class and controlling access, you can hide the internal workings of an object and present a simpler interface.\n",
        "\n"
      ],
      "metadata": {
        "id": "q-dy41ml-Bpd"
      }
    },
    {
      "cell_type": "code",
      "source": [
        "from abc import ABC, abstractmethod\n",
        "\n",
        "# Abstraction Example\n",
        "class Vehicle(ABC):\n",
        "    @abstractmethod\n",
        "    def start(self):\n",
        "        pass\n",
        "\n",
        "# Encapsulation Example\n",
        "class Account:\n",
        "    def __init__(self, balance):\n",
        "        self.__balance = balance # private variable\n",
        "\n",
        "    def deposit(self, amount):\n",
        "        self.__balance += amount\n",
        "\n",
        "    def get_balance(self):\n",
        "        return self.__balance\n",
        "\n",
        "# Using Abstraction\n",
        "class Car(Vehicle):\n",
        "    def start(self):\n",
        "        return \"Car engine starts with a key!\"\n",
        "\n",
        "my_car = Car()\n",
        "print(my_car.start())\n",
        "\n",
        "# Using Encapsulation\n",
        "acc = Account(1000)\n",
        "acc.deposit(500)\n",
        "print(acc.get_balance())"
      ],
      "metadata": {
        "colab": {
          "base_uri": "https://localhost:8080/"
        },
        "id": "KoCAI_dDAK9x",
        "outputId": "c8d2d77f-c7b9-4e3e-b2a1-d366b05581de"
      },
      "execution_count": 8,
      "outputs": [
        {
          "output_type": "stream",
          "name": "stdout",
          "text": [
            "Car engine starts with a key!\n",
            "1500\n"
          ]
        }
      ]
    },
    {
      "cell_type": "markdown",
      "metadata": {
        "id": "57f2746c"
      },
      "source": [
        "**Q5. What are Dunder Methods in Python?**\n",
        "\n",
        "> > **Dunder methods**, also known as magic methods or special methods, are built-in methods in Python that have double underscores (dunders) at the beginning and end of their names (e.g., `__init__`, `__str__`, `__add__`). These methods allow you to define how objects of your class interact with built-in Python operations and functions.\n",
        "\n",
        "> **Key Points:**\n",
        "\n",
        "> *   They are not meant to be called directly by you, but rather by the Python interpreter at specific times or in response to certain operations.\n",
        "> *   They enable you to implement operator overloading, customize object creation and deletion, control attribute access, and define the behavior of your objects in various contexts.\n",
        "\n",
        "> **Examples of Common Dunder Methods:**\n",
        "\n",
        "> *   `__init__(self, ...)`: The constructor, called when an object is created.\n",
        "> *   `__str__(self)`: Called by the `str()` and `print()` functions to get a string representation of the object.\n",
        "> *   `__repr__(self)`: Called by the `repr()` function and in the interactive interpreter to get a more detailed string representation.\n",
        "> *   `__len__(self)`: Called by the `len()` function to get the length of an object.\n",
        "> *   `__add__(self, other)`: Called when the `+` operator is used with objects of your class.\n",
        "> *   `__getitem__(self, key)`: Called when using square brackets (`[]`) for indexing.\n",
        "\n"
      ]
    },
    {
      "cell_type": "markdown",
      "source": [],
      "metadata": {
        "id": "R-IGVgkMDQKW"
      }
    },
    {
      "cell_type": "markdown",
      "metadata": {
        "id": "e023553b"
      },
      "source": [
        "**Q6. Explain the Concept of Inheritance in OOP**\n",
        "\n",
        "> > **Inheritance** is a fundamental concept in Object-Oriented Programming that allows a new class (called the **subclass** or **derived class**) to inherit properties (attributes) and behaviors (methods) from an existing class (called the **superclass** or **base class**). This promotes code reusability and establishes a hierarchical relationship between classes.\n",
        "\n",
        "> **Key Points about Inheritance:**\n",
        "\n",
        "> *   **Code Reusability:** You don't need to rewrite the same code in multiple classes if they share common characteristics.\n",
        "> *   **Is-A Relationship:** Inheritance represents an \"is-a\" relationship. For example, a \"Dog is an Animal,\" or a \"Car is a Vehicle.\"\n",
        "> *   **Extending Functionality:** Subclasses can add new attributes and methods or override existing ones from the superclass to provide specific functionality.\n",
        "\n",
        "> **Types of Inheritance in Python:**\n",
        "\n",
        "> *   **Single Inheritance:** A subclass inherits from only one superclass.\n",
        "> *   **Multiple Inheritance:** A subclass inherits from multiple superclasses.\n",
        "> *   **Multilevel Inheritance:** A subclass inherits from a superclass, and then another class inherits from that subclass.\n",
        "> *   **Hierarchical Inheritance:** Multiple subclasses inherit from a single superclass.\n",
        "> *   **Hybrid Inheritance:** A combination of two or more types of inheritance.\n",
        "\n",
        "**Example in Python:**"
      ]
    },
    {
      "cell_type": "code",
      "source": [
        "# Superclass (Parent class)\n",
        "class Animal:\n",
        "    def __init__(self, name):\n",
        "        self.name = name\n",
        "\n",
        "    def speak(self):\n",
        "        pass # Placeholder for the speak method\n",
        "\n",
        "# Subclass (Child class) inheriting from Animal\n",
        "class Dog(Animal):\n",
        "    def speak(self):\n",
        "        return f\"{self.name} says Woof!\"\n",
        "\n",
        "# Creating an object of the subclass\n",
        "my_dog = Dog(\"Buddy\")\n",
        "\n",
        "# Accessing inherited attribute and calling overridden method\n",
        "print(f\"{my_dog.name} speaks: {my_dog.speak()}\")"
      ],
      "metadata": {
        "colab": {
          "base_uri": "https://localhost:8080/"
        },
        "id": "tqxdypdVDi_-",
        "outputId": "873d3bda-7ffd-43c6-84bd-0c773815e91b"
      },
      "execution_count": 9,
      "outputs": [
        {
          "output_type": "stream",
          "name": "stdout",
          "text": [
            "Buddy speaks: Buddy says Woof!\n"
          ]
        }
      ]
    },
    {
      "cell_type": "markdown",
      "metadata": {
        "id": "5ccdc5a5"
      },
      "source": [
        "**Q7. What is Polymorphism in OOP?**\n",
        "\n",
        "> > **Polymorphism** in Object-Oriented Programming refers to the ability of different objects to respond to the same method call in their own unique ways. The word \"polymorphism\" comes from Greek and means \"many forms.\" It allows you to treat objects of different classes in a uniform way, as long as they share a common interface (like having methods with the same name).\n",
        "\n",
        "> **Key Concepts of Polymorphism:**\n",
        "\n",
        "> *   **Method Overriding:** A subclass provides a specific implementation of a method that is already defined in its superclass. This is a common form of polymorphism.\n",
        "> *   **Method Overloading (less common in Python in the traditional sense):** Defining multiple methods in the same class with the same name but different parameters. Python doesn't support true method overloading like some other languages, but similar behavior can be achieved using default arguments, variable-length arguments, or type checking.\n",
        "> *   **Operator Overloading:** Allowing operators (like `+`, `-`, `*`) to have different meanings depending on the context or the types of operands. This is achieved using dunder methods (e.g., `__add__` for `+`).\n",
        "\n",
        "> **Benefits of Polymorphism:**\n",
        "\n",
        "> *   **Flexibility:** Code can work with objects of different types interchangeably.\n",
        "> *   **Extensibility:** New classes can be added without modifying existing code, as long as they adhere to the common interface.\n",
        "> *   **Readability:** Code can be simpler and more intuitive when the same operation can be performed on different objects using the same method name.\n",
        "\n",
        "**Example in Python:**"
      ]
    },
    {
      "cell_type": "code",
      "metadata": {
        "colab": {
          "base_uri": "https://localhost:8080/"
        },
        "id": "6933fcfa",
        "outputId": "3e9dae69-973e-4f17-a23e-205371f1fe12"
      },
      "source": [
        "class Animal:\n",
        "    def speak(self):\n",
        "        return \"Generic animal sound\"\n",
        "\n",
        "class Dog(Animal):\n",
        "    def speak(self):\n",
        "        return \"Woof!\"\n",
        "\n",
        "class Cat(Animal):\n",
        "    def speak(self):\n",
        "        return \"Meow!\"\n",
        "\n",
        "def make_animal_speak(animal):\n",
        "    \"\"\"This function demonstrates polymorphism.\"\"\"\n",
        "    print(animal.speak())\n",
        "\n",
        "# Creating objects of different classes\n",
        "animal = Animal()\n",
        "dog = Dog()\n",
        "cat = Cat()\n",
        "\n",
        "# Calling the same function with different object types\n",
        "make_animal_speak(animal)\n",
        "make_animal_speak(dog)\n",
        "make_animal_speak(cat)"
      ],
      "execution_count": 10,
      "outputs": [
        {
          "output_type": "stream",
          "name": "stdout",
          "text": [
            "Generic animal sound\n",
            "Woof!\n",
            "Meow!\n"
          ]
        }
      ]
    },
    {
      "cell_type": "markdown",
      "metadata": {
        "id": "755ba73d"
      },
      "source": [
        "**Q8. How is Encapsulation achieved in Python?**\n",
        "\n",
        "> > In Python, encapsulation is typically achieved through the use of **private and protected attributes** and by providing **public methods** (also known as getters and setters) to access and modify those attributes. While Python doesn't have strict access modifiers like `public`, `private`, or `protected` as found in some other languages (like Java or C++), it uses naming conventions to indicate the intended visibility and relies on the convention that users of the class will respect these conventions.\n",
        "\n",
        "**Key Mechanisms in Python:**\n",
        "\n",
        "1.  **Single Underscore (`_`):**\n",
        "    *   A single underscore prefix (e.g., `_attribute`) is a convention to indicate that the attribute or method is \"protected\".\n",
        "    *   It suggests that the attribute/method is intended for internal use within the class or its subclasses.\n",
        "    *   However, it's merely a convention, and the attribute/method can still be accessed from outside the class. Python doesn't strictly prevent access.\n",
        "\n",
        "2.  **Double Underscore (`__`):**\n",
        "    *   A double underscore prefix (e.g., `__attribute`) is used for \"name mangling\".\n",
        "    *   Python renames these attributes internally to make them harder to access accidentally from outside the class. For a class named `MyClass`, `__attribute` would be internally renamed to something like `_MyClass__attribute`.\n",
        "    *   This provides a stronger form of privacy, although it's still not impossible to access these attributes if you know the mangled name.\n",
        "\n",
        "3.  **Getters and Setters (Public Methods):**\n",
        "    *   The recommended way to interact with potentially \"private\" data is through public methods.\n",
        "    *   **Getter methods** are used to retrieve the value of an attribute.\n",
        "    *   **Setter methods** are used to modify the value of an attribute, often with validation or additional logic.\n",
        "    "
      ]
    },
    {
      "cell_type": "markdown",
      "source": [
        "**Q9. What is a Constructor in Python?**\n",
        "\n",
        ">>**Definition:**\n",
        "A constructor in Python is a special method that is automatically called when an object of a class is created.\n",
        "Its main job is to initialize the attributes (data members) of the object.\n",
        "\n",
        ">>**Key Points:**\n",
        "1. __init__ method = constructor in Python.\n",
        "2. It initializes object attributes at creation time.\n",
        "3. Python automatically calls it when you create an object.\n",
        "4. We can use default arguments to make constructors flexible.\n"
      ],
      "metadata": {
        "id": "5FBcKo0jFrRP"
      }
    },
    {
      "cell_type": "markdown",
      "source": [
        "**Q10. What are Class and Static Methods in Python?**\n",
        "\n",
        ">>**1. Class Methods**\n",
        "A class method is a method that is bound to the class itself, not the object.\n",
        "It can access and modify class-level attributes (shared across all objects).\n",
        "Defined using the @classmethod decorator.\n",
        "The first parameter is always cls (refers to the class).\n",
        "\n",
        "**Example**\n"
      ],
      "metadata": {
        "id": "lWrQJwWJGWnH"
      }
    },
    {
      "cell_type": "code",
      "source": [
        "class Student:\n",
        "    school = \"ABC Public School\" # Class attribute\n",
        "\n",
        "    def __init__(self, name, age):\n",
        "        self.name = name\n",
        "        self.age = age\n",
        "\n",
        "    @classmethod\n",
        "    def change_school(cls, new_school):\n",
        "        cls.school = new_school # modifies class-level data\n",
        "\n",
        "# Using class method\n",
        "Student.change_school(\"XYZ International School\")\n",
        "print(Student.school)"
      ],
      "metadata": {
        "colab": {
          "base_uri": "https://localhost:8080/"
        },
        "id": "QFYyUontHf_1",
        "outputId": "d9688e64-b9c7-4c82-bf4e-3e459abe60c8"
      },
      "execution_count": 12,
      "outputs": [
        {
          "output_type": "stream",
          "name": "stdout",
          "text": [
            "XYZ International School\n"
          ]
        }
      ]
    },
    {
      "cell_type": "markdown",
      "source": [
        "**2. Static Methods**-\n",
        "A static method does not depend on the class (cls) or instance (self) .\n",
        "Used when we want a utility/helper function inside a class.\n",
        "Defined using the @staticmethod decorator.\n",
        "\n",
        "**Example-**\n"
      ],
      "metadata": {
        "id": "sqxZ7onTH5RR"
      }
    },
    {
      "cell_type": "code",
      "source": [
        "class MathOperations:\n",
        "    @staticmethod\n",
        "    def add(x, y):\n",
        "        return x + y\n",
        "    @staticmethod\n",
        "    def multiply(x, y):\n",
        "        return x * y\n",
        "# Using static methods\n",
        "print(MathOperations.add(5, 10))\n",
        "print(MathOperations.multiply(3,4))"
      ],
      "metadata": {
        "colab": {
          "base_uri": "https://localhost:8080/"
        },
        "id": "0jS6IfStIEw3",
        "outputId": "4d09acbb-76b7-4042-a2af-7ad0afe102b3"
      },
      "execution_count": 14,
      "outputs": [
        {
          "output_type": "stream",
          "name": "stdout",
          "text": [
            "15\n",
            "12\n"
          ]
        }
      ]
    },
    {
      "cell_type": "markdown",
      "source": [
        "**Key Differences Between Class & Static Methods**-"
      ],
      "metadata": {
        "id": "bEV36GnbJogN"
      }
    },
    {
      "cell_type": "markdown",
      "metadata": {
        "id": "b92c98c6"
      },
      "source": [
        "| Feature         | Class Method (`@classmethod`) | Static Method (`@staticmethod`) |\n",
        "|-----------------|-------------------------------|---------------------------------|\n",
        "| First Argument  | `cls` (class reference)       | No default first argument       |\n",
        "| Access `cls`    | Yes                           | No                              |\n",
        "| Access `self`   | No                            | No                              |\n",
        "| Scope           | Works with class-level data   | Independent utility/helper      |\n",
        "| Use Case        | Modify/read class attributes  | General-purpose methods         |"
      ]
    },
    {
      "cell_type": "markdown",
      "source": [
        "**Q11. What is Method Overloading in Python?**\n",
        "\n",
        ">>Definition\n",
        "Method Overloading means having multiple methods with the same name but different parameters (like in Java/C++).\n",
        "Python does not support true method overloading because:\n",
        "The latest defined method with the same name will overwrite the previous ones.\n",
        "How Python Handles It\n",
        "Instead of true overloading, Python uses:\n",
        "\n",
        ">>**1**. Default arguments\n",
        "\n",
        ">>**2**. Variable-length arguments ( *args , **kwargs )"
      ],
      "metadata": {
        "id": "MDPdz39dJtOK"
      }
    },
    {
      "cell_type": "markdown",
      "source": [
        "**Example1: Default Arguments**\n"
      ],
      "metadata": {
        "id": "CDl6CAaSKe0-"
      }
    },
    {
      "cell_type": "code",
      "source": [
        "class Calculator:\n",
        "    def add(self, a=0, b=0, c=0):\n",
        "        return a + b + c\n",
        "calc = Calculator()\n",
        "print(calc.add(2))\n",
        "print(calc.add(2, 3))\n",
        "print(calc.add(2, 3, 4))"
      ],
      "metadata": {
        "colab": {
          "base_uri": "https://localhost:8080/"
        },
        "id": "zT8vvaWHKjBV",
        "outputId": "b6ed9aea-2365-4476-cb3b-26018ace3d64"
      },
      "execution_count": 16,
      "outputs": [
        {
          "output_type": "stream",
          "name": "stdout",
          "text": [
            "2\n",
            "5\n",
            "9\n"
          ]
        }
      ]
    },
    {
      "cell_type": "markdown",
      "source": [
        "**Example 2: Variable-Length Arguments**"
      ],
      "metadata": {
        "id": "Wg7-nbIZLEx2"
      }
    },
    {
      "cell_type": "code",
      "source": [
        "class Calculator:\n",
        "    def add(self, *args):\n",
        "        return sum(args)\n",
        "calc = Calculator()\n",
        "print(calc.add(5))\n",
        "print(calc.add(2, 3, 4))\n",
        "print(calc.add(10, 20, 30, 40))"
      ],
      "metadata": {
        "colab": {
          "base_uri": "https://localhost:8080/"
        },
        "id": "ACmlVgHvLKyG",
        "outputId": "cbbc686b-2bd5-444f-db72-205d512c321c"
      },
      "execution_count": 18,
      "outputs": [
        {
          "output_type": "stream",
          "name": "stdout",
          "text": [
            "5\n",
            "9\n",
            "100\n"
          ]
        }
      ]
    },
    {
      "cell_type": "markdown",
      "source": [
        "**Q12. What is Method Overriding in OOP?**\n",
        "\n",
        ">>**Method Overriding** occurs when a ***child class provides a specific implementation*** of a method that is already defined in its parent\n",
        "class.\n",
        "\n",
        ">>**The method in the child class must have:**\n",
        "\n",
        ">>>The same name\n",
        "\n",
        ">>>The same number of parameters\n",
        "\n",
        ">>>as the method in the parent class.\n",
        "\n",
        "**Key Points**\n",
        "**1**. Method overriding is used to change or extend the behavior of a parent class method.\n",
        "\n",
        "**2**. It supports Runtime Polymorphism (decision happens at runtime).\n",
        "\n",
        "**3**. The parent class method is replaced (or extended) when called using a child class object.\n"
      ],
      "metadata": {
        "id": "Jst2mXhILkei"
      }
    },
    {
      "cell_type": "markdown",
      "source": [
        "**Example1: Basic Overriding**"
      ],
      "metadata": {
        "id": "93XrBzSfNViG"
      }
    },
    {
      "cell_type": "code",
      "source": [
        "class Animal:\n",
        "    def sound(self):\n",
        "        return \"Some generic sound\"\n",
        "class Dog(Animal):\n",
        "    def sound(self): # Overriding the parent method\n",
        "        return \"Bark\"\n",
        "class Cat(Animal):\n",
        "    def sound(self): # Overriding again\n",
        "        return \"Meow\"\n",
        "# Test\n",
        "dog = Dog()\n",
        "cat = Cat()\n",
        "print(dog.sound())\n",
        "print(cat.sound())"
      ],
      "metadata": {
        "colab": {
          "base_uri": "https://localhost:8080/"
        },
        "id": "Gum9s1Q4NYfM",
        "outputId": "3620db8a-a2f9-4269-c656-d256a6562a2c"
      },
      "execution_count": 20,
      "outputs": [
        {
          "output_type": "stream",
          "name": "stdout",
          "text": [
            "Bark\n",
            "Meow\n"
          ]
        }
      ]
    },
    {
      "cell_type": "markdown",
      "source": [
        "**Example2: Using super() in Overriding**"
      ],
      "metadata": {
        "id": "er9rh36ANqIF"
      }
    },
    {
      "cell_type": "code",
      "source": [
        "class Vehicle:\n",
        "    def info(self):\n",
        "        return \"This is a vehicle.\"\n",
        "class Car(Vehicle):\n",
        "    def info(self):\n",
        "        # Extending parent method using super()\n",
        "        return super().info() + \" Specifically, it is a car.\"\n",
        "# Test\n",
        "car = Car()\n",
        "print(car.info())"
      ],
      "metadata": {
        "colab": {
          "base_uri": "https://localhost:8080/"
        },
        "id": "Q2UAIkXYNzMl",
        "outputId": "ed77e52e-2cfb-4448-c838-813e9c41d96a"
      },
      "execution_count": 22,
      "outputs": [
        {
          "output_type": "stream",
          "name": "stdout",
          "text": [
            "This is a vehicle. Specifically, it is a car.\n"
          ]
        }
      ]
    },
    {
      "cell_type": "markdown",
      "source": [
        "**Q13. What is a Property Decorator in Python?**\n",
        "\n",
        ">>The **@property decorator** in Python is used to define methods in a class that can be accessed like attributes (without parentheses).\n",
        "It allows you to:\n",
        "1. Encapsulate data (hide internal representation).\n",
        "2. Provide getter, setter, and deleter functionality in a clean and Pythonic way.\n",
        "\n",
        ">>**Why Use @property ?**\n",
        "\n",
        ">>Sometimes you want to protect access to a variable and perform extra logic when getting or setting it.\n",
        "\n",
        ">>Instead of calling explicit methods ( get_name() , set_name() ), you can use @property to access them as if they were simple\n",
        "attributes.\n",
        "\n"
      ],
      "metadata": {
        "id": "HF9-nhvjOH1X"
      }
    },
    {
      "cell_type": "markdown",
      "source": [
        "**Key Points**\n",
        "1. @property → creates a getter method.\n",
        "2. @name.setter → creates a setter method.\n",
        "3. @name.deleter → creates a deleter method.\n",
        "4. You access it like a normal attribute, but behind the scenes, methods are called.\n"
      ],
      "metadata": {
        "id": "iObIO98ePdKS"
      }
    },
    {
      "cell_type": "markdown",
      "source": [
        "**Example: Using @property**"
      ],
      "metadata": {
        "id": "ifZ6ClP9P2Sv"
      }
    },
    {
      "cell_type": "code",
      "source": [
        "class Student:\n",
        "    def __init__(self, name):\n",
        "        self._name = name # private variable convention\n",
        "    @property\n",
        "    def name(self):\n",
        "        return self._name # getter\n",
        "    @name.setter\n",
        "    def name(self, value):\n",
        "        if not value.strip(): # validation\n",
        "            raise ValueError(\"Name cannot be empty!\")\n",
        "        self._name = value # setter\n",
        "    @name.deleter\n",
        "    def name(self):\n",
        "        print(\"Deleting name...\")\n",
        "        del self._name\n",
        "# Test\n",
        "s = Student(\"prashant\")\n",
        "print(s.name) # Access like attribute → Ritesh\n",
        "s.name = \"sagar\" # Calls setter internally\n",
        "print(s.name) # Aditi\n",
        "del s.name"
      ],
      "metadata": {
        "colab": {
          "base_uri": "https://localhost:8080/"
        },
        "id": "yMvqrtTpP_n4",
        "outputId": "f59a56d4-1442-4b74-c142-e36297b13fcf"
      },
      "execution_count": 25,
      "outputs": [
        {
          "output_type": "stream",
          "name": "stdout",
          "text": [
            "prashant\n",
            "sagar\n",
            "Deleting name...\n"
          ]
        }
      ]
    },
    {
      "cell_type": "markdown",
      "source": [
        "**Q14. Why is Polymorphism Important in OOP?**\n",
        "\n",
        ">>**Polymorphism means** \"many forms\".\n",
        "In OOP, polymorphism allows the same interface (method/function) to work with different types of objects.\n",
        "\n",
        ">>**Example:** A method draw() can be defined in multiple classes ( Circle , Square , Triangle ) but each class provides its own\n",
        "implementation.\n",
        "\n",
        "**Importance of Polymorphism**\n",
        "1. **Code Reusability**\n",
        "Same function name can be used for different data types or classes.\n",
        "\n",
        ">>Reduces duplication in code.\n",
        "\n",
        "2. **Flexibility & Maintainability**\n",
        "Makes code more extensible.\n",
        "\n",
        ">>New classes can be added without changing the existing code structure.\n",
        "\n",
        "**3. Readability** Clearer and cleaner code because method names stay consistent.\n",
        "\n",
        "\n",
        "\n",
        "\n",
        "\n"
      ],
      "metadata": {
        "id": "wtr2IlesQdx5"
      }
    },
    {
      "cell_type": "markdown",
      "source": [
        "**Example: Polymorphism in Action**"
      ],
      "metadata": {
        "id": "tX9t1-ewSGwZ"
      }
    },
    {
      "cell_type": "code",
      "source": [
        "class Dog:\n",
        "    def sound(self):\n",
        "        return \"Woof!\"\n",
        "class Cat:\n",
        "    def sound(self):\n",
        "        return \"Meow!\"\n",
        "class Cow:\n",
        "    def sound(self):\n",
        "        return \"Moo!\"\n",
        "# Polymorphism: Same method name `sound()` behaves differently\n",
        "animals = [Dog(), Cat(), Cow()]\n",
        "for animal in animals:\n",
        "    print(animal.sound())"
      ],
      "metadata": {
        "colab": {
          "base_uri": "https://localhost:8080/"
        },
        "id": "GoS8s34mSNGF",
        "outputId": "bb6fc112-e2bf-470b-90fa-3199ec317ac0"
      },
      "execution_count": 28,
      "outputs": [
        {
          "output_type": "stream",
          "name": "stdout",
          "text": [
            "Woof!\n",
            "Meow!\n",
            "Moo!\n"
          ]
        }
      ]
    },
    {
      "cell_type": "markdown",
      "source": [
        "**Q15. What is an Abstract Class in Python?**\n",
        "\n",
        ">>**An abstract class** is a class that cannot be instantiated directly.\n",
        "It serves as a blueprint for other classes.\n",
        "Abstract classes can contain:\n",
        "**Abstract methods →** Methods declared but not implemented.\n",
        "**Concrete methods →** Normal methods with implementation.\n",
        "\n",
        ">>In Python, abstract classes are created using the abc (Abstract Base Class) module.\n"
      ],
      "metadata": {
        "id": "R26Jf78_SsSH"
      }
    },
    {
      "cell_type": "markdown",
      "source": [
        "**Why Use Abstract Classes?**\n",
        "1. To define a common interface for all subclasses.\n",
        "2. To enforce implementation of certain methods in subclasses.\n",
        "3. To achieve abstraction in OOP (hiding implementation details)."
      ],
      "metadata": {
        "id": "O949ly5AWHAQ"
      }
    },
    {
      "cell_type": "markdown",
      "source": [
        "**Example: Abstract Class in Python**"
      ],
      "metadata": {
        "id": "RJcPZQrCWP9o"
      }
    },
    {
      "cell_type": "code",
      "source": [
        "from abc import ABC, abstractmethod\n",
        "\n",
        "# Abstract Class\n",
        "class Vehicle(ABC):\n",
        "    @abstractmethod\n",
        "    def start_engine(self):\n",
        "        pass # abstract method (must be implemented by subclass)\n",
        "    def fuel_type(self):\n",
        "        return \"Petrol or Diesel\" # concrete method\n",
        "\n",
        "# Subclass 1\n",
        "class Car(Vehicle):\n",
        "    def start_engine(self):\n",
        "        return \"Car engine started with key\"\n",
        "\n",
        "# Subclass 2\n",
        "class Bike(Vehicle):\n",
        "    def start_engine(self):\n",
        "        return \"Bike engine started with self-start\"\n",
        "\n",
        "# Objects\n",
        "car = Car()\n",
        "bike = Bike()\n",
        "print(car.start_engine())\n",
        "print(bike.start_engine())\n",
        "print(car.fuel_type()) # Accessing concrete method from abstract class"
      ],
      "metadata": {
        "colab": {
          "base_uri": "https://localhost:8080/"
        },
        "id": "cFWnGLNWWTdW",
        "outputId": "22e6b488-b610-4e06-8d96-dc7bbc1baace"
      },
      "execution_count": 30,
      "outputs": [
        {
          "output_type": "stream",
          "name": "stdout",
          "text": [
            "Car engine started with key\n",
            "Bike engine started with self-start\n",
            "Petrol or Diesel\n"
          ]
        }
      ]
    },
    {
      "cell_type": "markdown",
      "source": [
        "**Q16. What are the Advantages of Object-Oriented Programming (OOP)?**\n",
        "\n",
        ">>**Object-Oriented Programming (OOP)** provides a structured way of writing code by organizing it around objects and classes.\n",
        "It offers several advantages over traditional procedural programming.\n",
        "Advantages of OOP\n",
        "1. Modularity (Code Reusability)\n",
        "Code is divided into classes and objects, making it modular and reusable.\n",
        "Once a class is created, it can be reused in different programs.\n",
        "2. Encapsulation (Data Hiding)\n",
        "Sensitive data can be hidden inside a class and accessed only through defined methods.\n",
        "This improves security and prevents misuse.\n",
        "3. Inheritance\n",
        "Classes can reuse and extend functionality from other classes.\n",
        "Promotes code reusability and avoids duplication.\n",
        "4. Polymorphism\n",
        "The same function or method can work in different ways depending on the object.\n",
        "Makes the code more flexible and maintainable.\n",
        "5. Abstraction\n",
        "Only essential details are shown, while complex implementation is hidden.\n",
        "Helps in reducing complexity.\n",
        "6. Maintainability\n",
        "OOP code is easier to update, modify, and maintain because each class is independent.\n",
        "7. Scalability\n",
        "Large projects can be managed efficiently as OOP makes it easier to divide work into modules (classes).\n"
      ],
      "metadata": {
        "id": "TpQF3BdsXcH2"
      }
    },
    {
      "cell_type": "markdown",
      "source": [
        "**Example (Real-Life Analogy)**\n",
        "\n",
        ">>Think of a Car class:\n",
        "\n",
        "**Properties:** color , model , engine_type\n",
        "\n",
        "**Methods:** start() , stop()"
      ],
      "metadata": {
        "id": "kjw69z3JYGk9"
      }
    },
    {
      "cell_type": "markdown",
      "source": [],
      "metadata": {
        "id": "YrPGlwx4SEZD"
      }
    },
    {
      "cell_type": "markdown",
      "metadata": {
        "id": "2248e0cf"
      },
      "source": [
        "**Q17. What is the difference between a Class Variable and an Instance Variable?**\n",
        "\n",
        "> > **Class Variables** and **Instance Variables** are used to store data within a class, but they differ in how they are defined, accessed, and the scope of their values.\n",
        "\n",
        "**Class Variables:**\n",
        "\n",
        "*   **Definition:** Defined directly within the class, outside of any methods.\n",
        "*   **Scope:** Shared among *all* instances (objects) of the class. There is only one copy of a class variable for the entire class.\n",
        "*   **Access:** Accessed using the class name (`ClassName.class_variable`) or through an instance (`instance.class_variable`), although accessing through the class name is the recommended way to modify it.\n",
        "*   **Purpose:** Used for attributes that are common to all instances of the class, such as constants, default values, or counters.\n",
        "\n",
        "**Instance Variables:**\n",
        "\n",
        "*   **Definition:** Defined within the methods of a class, typically in the constructor (`__init__`), using the `self` keyword (`self.instance_variable`).\n",
        "*   **Scope:** Unique to each instance (object) of the class. Each object has its own copy of instance variables.\n",
        "*   **Access:** Accessed using the instance name (`instance.instance_variable`).\n",
        "*   **Purpose:** Used for attributes that represent the unique state or characteristics of a specific object.\n",
        "\n",
        "**In Summary:**\n",
        "\n",
        "Think of a class variable as a shared characteristic of all members of a group (like the species of an animal), while an instance variable is a specific trait of an individual member of that group (like the animal's name or age)."
      ]
    },
    {
      "cell_type": "markdown",
      "source": [
        "**Example in Python**"
      ],
      "metadata": {
        "id": "NBnmO38MZjbv"
      }
    },
    {
      "cell_type": "code",
      "source": [
        "class Student:\n",
        "    # Class Variable (shared by all instances)\n",
        "    school_name = \"dav public school\"\n",
        "    def __init__(self, name, grade):\n",
        "        # Instance Variables (unique to each object)\n",
        "        self.name = name\n",
        "        self.grade = grade\n",
        "# Creating two objects\n",
        "s1 = Student(\"prashant\", \"10th\")\n",
        "s2 = Student(\"Anmol\", \"12th\")\n",
        "# Accessing variables\n",
        "print(s1.name, s1.grade, s1.school_name) # Ritesh 10th ABC Public School\n",
        "print(s2.name, s2.grade, s2.school_name) # Aditi 12th ABC Public School\n",
        "# Changing the class variable\n",
        "Student.school_name = \"XYZ International School\"\n",
        "print(s1.school_name) # XYZ International School\n",
        "print(s2.school_name) # XYZ International School\n",
        "# Changing instance variable\n",
        "s1.grade = \"11th\"\n",
        "print(s1.grade)\n",
        "print(s2.grade)"
      ],
      "metadata": {
        "colab": {
          "base_uri": "https://localhost:8080/"
        },
        "id": "vwoBdEaSZl8d",
        "outputId": "6768069c-85e4-49ff-8f51-56dd50bc8cb6"
      },
      "execution_count": 33,
      "outputs": [
        {
          "output_type": "stream",
          "name": "stdout",
          "text": [
            "prashant 10th dav public school\n",
            "Anmol 12th dav public school\n",
            "XYZ International School\n",
            "XYZ International School\n",
            "11th\n",
            "12th\n"
          ]
        }
      ]
    },
    {
      "cell_type": "markdown",
      "source": [
        "**Key Differences between Class Variable and Instance Variable**\n"
      ],
      "metadata": {
        "id": "FnvAB-xnaW4u"
      }
    },
    {
      "cell_type": "markdown",
      "metadata": {
        "id": "ce939090"
      },
      "source": [
        "| Feature          | Class Variables                     | Instance Variables                     |\n",
        "|------------------|-------------------------------------|----------------------------------------|\n",
        "| **Definition**   | Shared among all instances of a class | Unique to each instance of a class     |\n",
        "| **Declaration**  | Defined within the class, outside of any methods | Defined within methods (usually `__init__`) using `self` |\n",
        "| **Access**       | Accessed using the class name or an instance | Accessed using the instance name (`self`) |\n",
        "| **Modification** | Changing the class variable affects all instances | Changing an instance variable only affects that specific instance |\n",
        "| **Use Case**     | Storing data common to all instances (e.g., constants, default values) | Storing data specific to each object (e.g., name, age, balance) |"
      ]
    },
    {
      "cell_type": "markdown",
      "metadata": {
        "id": "412010a3"
      },
      "source": [
        "**Q18. What is multiple inheritance in Python?**\n",
        "\n",
        "> > **Multiple inheritance** is a feature in Object-Oriented Programming where a class can inherit properties and behaviors from **more than one** parent class. This allows a child class to combine the functionalities of multiple base classes.\n",
        "\n",
        "**Key Points about Multiple Inheritance:**\n",
        "\n",
        "*   **Combining Features:** A subclass can inherit attributes and methods from all its parent classes.\n",
        "*   **Flexibility:** It provides flexibility by allowing a class to have diverse functionalities inherited from different sources.\n",
        "*   **Complexity (Method Resolution Order - MRO):** One challenge with multiple inheritance is dealing with potential name conflicts if multiple parent classes have methods or attributes with the same name. Python uses a specific algorithm called the Method Resolution Order (MRO) to determine the order in which base classes are searched when a method is called.\n",
        "\n",
        "**How Python Handles Multiple Inheritance (MRO):**\n",
        "\n",
        "> > Python 3 uses the C3 linearization algorithm to determine the MRO. You can view the MRO of a class using the `.__mro__` attribute or the `help()` function.\n",
        "\n",
        "**Example in Python:**"
      ]
    },
    {
      "cell_type": "code",
      "source": [
        "class Father:\n",
        "    def skill(self):\n",
        "        print(\"reading\")\n",
        "class Mother:\n",
        "    def skill(self):\n",
        "        print(\"singing\")\n",
        "class Child(Father, Mother): # Multiple Inheritance\n",
        "    def skill(self):\n",
        "        print(\"Child also knows how to reading and singing\")\n",
        "# Object creation\n",
        "c = Child()\n",
        "c.skill()"
      ],
      "metadata": {
        "colab": {
          "base_uri": "https://localhost:8080/"
        },
        "id": "34xgb4tzbLlg",
        "outputId": "39ecb3c2-b448-4099-c95d-771093d9052b"
      },
      "execution_count": 36,
      "outputs": [
        {
          "output_type": "stream",
          "name": "stdout",
          "text": [
            "Child also knows how to reading and singing\n"
          ]
        }
      ]
    },
    {
      "cell_type": "markdown",
      "metadata": {
        "id": "433d3eb6"
      },
      "source": [
        "**Q19. Explain the purpose of `__str__` and `__repr__` methods in Python**?\n",
        "\n",
        "**In Python**,the `__str__` and `__repr__` dunder methods are used to provide string representations of objects. While they might seem similar, they serve different purposes:\n",
        "\n",
        "*   **`__str__(self)`:**\n",
        "    *   Called by the built-in `str()` function and `print()` function.\n",
        "    *   Aims to return a user-friendly string representation of the object.\n",
        "    *   Should be readable and provide a concise overview of the object's state.\n",
        "    *   If you don't define `__str__`, Python falls back to `__repr__`.\n",
        "\n",
        "*   **`__repr__(self)`:**\n",
        "    *   Called by the built-in `repr()` function and in the interactive interpreter when an object is evaluated.\n",
        "    *   Aims to return an \"official\" string representation of the object.\n",
        "    *   Should be unambiguous and ideally allow the object to be reconstructed from the string (if possible).\n",
        "    *   Often used for debugging and development.\n",
        "    *   If you don't define `__repr__`, Python falls back to a default representation that includes the object's class name and memory address.\n",
        "\n",
        "**Key Difference:**\n",
        "\n",
        "The main difference lies in their target audience: `__str__` is for **humans** (readable output), while `__repr__` is for **developers** (unambiguous and detailed output, often for debugging).\n",
        "\n"
      ]
    },
    {
      "cell_type": "markdown",
      "source": [
        "**Q20. What is the significance of the ‘super()’ function in Python?**\n",
        "\n",
        ">>The super() function is a built-in function in Python that allows us to call methods from a parent (superclass) inside a child (subclass).\n",
        "It is mainly used in inheritance to avoid rewriting code and to ensure proper method resolution when multiple classes are involved.\n",
        "\n",
        "**1. Why Use super() ?**\n",
        "\n",
        ">>**Code Reusability:** Prevents duplicate code by reusing parent class methods.\n",
        "\n",
        ">>**Maintainability:** If the parent class changes, child classes automatically inherit updated behavior.\n",
        "\n",
        ">>**Supports Multiple Inheritance:** Works with Python's MRO (Method Resolution Order) to correctly decide which class method to call.\n",
        "\n",
        ">>**Cleaner Syntax:** Avoids hardcoding the parent class name, making the code more flexible."
      ],
      "metadata": {
        "id": "DBMiOlZZdl_f"
      }
    },
    {
      "cell_type": "markdown",
      "metadata": {
        "id": "a21fdc91"
      },
      "source": [
        "**Q21. What is the significance of the `__del__` method in Python?**\n",
        "\n",
        "> > The `__del__` method, also known as the destructor, is a special method in Python that is called when an object is about to be destroyed or garbage collected. It's not a direct equivalent of destructors in languages like C++ because Python's garbage collection is automatic and the exact timing of `__del__` being called is not guaranteed.\n",
        "\n",
        "**Significance and Use Cases:**\n",
        "\n",
        "*   **Cleanup Operations:** The primary purpose of `__del__` is to perform cleanup operations before an object is removed from memory. This might include:\n",
        "    *   Closing file handles or network connections.\n",
        "    *   Releasing external resources (like database connections).\n",
        "    *   Removing temporary files.\n",
        "*   **Resource Management:** While Python's garbage collector handles memory management, `__del__` can be used for managing other non-memory resources associated with an object.\n",
        "*   **Debugging:** In some cases, `__del__` can be used for debugging to see when an object is being destroyed.\n",
        "\n",
        "**Important Considerations:**\n",
        "\n",
        "*   **Unpredictable Timing:** The garbage collector runs at unpredictable times, so you cannot rely on `__del__` being called immediately after an object is no longer referenced.\n",
        "*   **Potential Issues:** Using `__del__` can sometimes lead to issues like circular references preventing garbage collection or errors during the cleanup process if resources are already released.\n",
        "*   **Context Managers (`with` statement):** For reliable resource management (like files), it's generally recommended to use context managers (`with` statement) with `__enter__` and `__exit__` methods instead of `__del__`. Context managers guarantee that cleanup code is executed, even if errors occur.\n",
        "\n",
        "**In Summary:**\n",
        "\n",
        "While `__del__` exists for cleanup, its unpredictable nature makes it less reliable for critical resource management compared to context managers. It's best used for non-critical cleanup or debugging purposes."
      ]
    },
    {
      "cell_type": "markdown",
      "metadata": {
        "id": "bcef80e7"
      },
      "source": [
        "**Q22. What is the difference between `@staticmethod` and `@classmethod` in Python?**\n",
        "\n",
        "> > The key difference lies in the implicit first argument they receive:\n",
        "\n",
        "*   **`@classmethod`** receives the **class** itself as the first argument (conventionally named `cls`). It is typically used to access or modify class state.\n",
        "*   **`@staticmethod`** receives **no** implicit first argument. It behaves like a regular function but is defined within a class, often for logical grouping or utility purposes that don't require access to the instance or class itself.\n",
        "\n",
        "> > You can refer to the table provided earlier in the notebook for a detailed comparison of their features."
      ]
    },
    {
      "cell_type": "markdown",
      "source": [
        "**Q23. How does polymorphism work in Python with inheritance?**\n",
        "\n",
        ">>**Polymorphism** means \"many forms\".\n",
        "In Python, it allows the same method or operation to behave differently depending on the object that calls it.\n",
        "\n",
        ">>**When combined with inheritance**, polymorphism lets child classes provide their own implementation of methods that are already defined in the parent class.\n",
        "\n",
        ">> **How Polymorphism Works with Inheritance**\n",
        "A parent class defines a method.\n",
        "\n",
        ">>Child classes override (redefine) that method with their own behavior.\n",
        "When we call the method on different objects, Python automatically decides which version to execute (based on the object type).\n",
        "\n",
        "\n"
      ],
      "metadata": {
        "id": "hioy4hMigs6G"
      }
    },
    {
      "cell_type": "markdown",
      "metadata": {
        "id": "f6f7ed62"
      },
      "source": [
        "**Q24. What is method chaining in Python OOP?**\n",
        "\n",
        "> > **Method chaining** is a programming technique where multiple method calls are strung together in a single expression. Each method in the chain returns an object, allowing the next method in the chain to be called on that returned object. This often results in more concise and readable code, especially when performing a series of operations on the same object.\n",
        "\n",
        "**How it Works:**\n",
        "\n",
        "For a method to be chainable, it must explicitly `return self` (the instance of the object) at the end of its execution. This allows the next method call in the chain to operate on the same object.\n",
        "\n",
        "**Benefits of Method Chaining:**\n",
        "\n",
        ">>  **Readability:** Can make code more fluid and easier to read, especially for a sequence of operations.\n",
        "\n",
        ">>  **Conciseness:** Reduces the need for temporary variables to store intermediate results.\n",
        "\n",
        ">>  **DSL-like Syntax:** Can sometimes create a more domain-specific language (DSL)-like syntax for interacting with objects.\n",
        "\n",
        "**Considerations:**\n",
        "\n",
        ">>  While often beneficial, excessive chaining can sometimes make debugging more difficult, as it can be harder to inspect the state of the object at each step of the chain.\n",
        "\n",
        ">>   Not all methods are suitable for chaining. Methods that return a different type of object or a final result (rather than the object itself) cannot be chained in this manner.\n",
        "\n",
        "**Example in Python:**"
      ]
    },
    {
      "cell_type": "code",
      "metadata": {
        "colab": {
          "base_uri": "https://localhost:8080/"
        },
        "id": "8808a862",
        "outputId": "ff373694-87f2-47a8-f12e-45a7d3e6d49e"
      },
      "source": [
        "class Calculator:\n",
        "    def __init__(self, value=0):\n",
        "        self.value = value\n",
        "\n",
        "    def add(self, amount):\n",
        "        self.value += amount\n",
        "        return self # Return self to allow chaining\n",
        "\n",
        "    def subtract(self, amount):\n",
        "        self.value -= amount\n",
        "        return self # Return self to allow chaining\n",
        "\n",
        "    def multiply(self, amount):\n",
        "        self.value *= amount\n",
        "        return self # Return self to allow chaining\n",
        "\n",
        "    def get_result(self):\n",
        "        return self.value\n",
        "\n",
        "# Using method chaining\n",
        "result = Calculator(10).add(5).subtract(2).multiply(3).get_result()\n",
        "print(f\"The final result is: {result}\")\n",
        "\n",
        "# Without method chaining\n",
        "# calc = Calculator(10)\n",
        "# calc.add(5)\n",
        "# calc.subtract(2)\n",
        "# calc.multiply(3)\n",
        "# result_without_chaining = calc.get_result()\n",
        "# print(f\"The final result (without chaining) is: {result_without_chaining}\")"
      ],
      "execution_count": 40,
      "outputs": [
        {
          "output_type": "stream",
          "name": "stdout",
          "text": [
            "The final result is: 39\n"
          ]
        }
      ]
    },
    {
      "cell_type": "markdown",
      "source": [
        "**Q25. What is the purpose of the call method in Python?**\n",
        "\n",
        ">>In Python, the __call__ method is a special (dunder) method that allows an instance of a class to be called like a regular function.\n",
        "This means that after defining __call__ , you can use the object with parentheses () as if it were a function.\n",
        "1. Why Use __call__ ?\n",
        "Function-like behavior: Treat objects as callable functions.\n",
        "Encapsulation: Combine data and behavior in an object that can still be invoked easily.\n",
        "Flexibility: Useful in designing functors, decorators, or APIs where objects need to be callable.\n",
        "\n"
      ],
      "metadata": {
        "id": "2B_mlaQqjboB"
      }
    },
    {
      "cell_type": "markdown",
      "source": [
        "2. Example: Basic Use of __call__\n"
      ],
      "metadata": {
        "id": "TG4RxHLtj_uy"
      }
    },
    {
      "cell_type": "code",
      "source": [
        "class Adder:\n",
        "    def __init__(self, x):\n",
        "        self.x = x\n",
        "    def __call__(self, y):\n",
        "        return self.x + y\n",
        "add_five = Adder(5)\n",
        "print(add_five(10))"
      ],
      "metadata": {
        "colab": {
          "base_uri": "https://localhost:8080/"
        },
        "id": "URVqmvTBkL7o",
        "outputId": "da3296bf-082e-4724-81dd-d9a6d28d1137"
      },
      "execution_count": 42,
      "outputs": [
        {
          "output_type": "stream",
          "name": "stdout",
          "text": [
            "15\n"
          ]
        }
      ]
    },
    {
      "cell_type": "markdown",
      "source": [
        "3. Example: call for Logging"
      ],
      "metadata": {
        "id": "_L3QUmokka-o"
      }
    },
    {
      "cell_type": "code",
      "source": [
        "class Logger:\n",
        "    def __init__(self, prefix):\n",
        "        self.prefix = prefix\n",
        "    def __call__(self, message):\n",
        "        print(f\"{self.prefix}: {message}\")\n",
        "log = Logger(\"INFO\")\n",
        "log(\"This is a log message\")"
      ],
      "metadata": {
        "colab": {
          "base_uri": "https://localhost:8080/"
        },
        "id": "dggYnKf2kcZC",
        "outputId": "d9e6ba35-16e8-4fa4-ab57-78cd228b7bed"
      },
      "execution_count": 44,
      "outputs": [
        {
          "output_type": "stream",
          "name": "stdout",
          "text": [
            "INFO: This is a log message\n"
          ]
        }
      ]
    },
    {
      "cell_type": "markdown",
      "source": [
        "# Practical Questions"
      ],
      "metadata": {
        "id": "4xmoceytkx1A"
      }
    },
    {
      "cell_type": "markdown",
      "source": [
        "**1.** Create a parent class Animal with a method speak() that prints a generic\n",
        "message. Create a child class Dog that overrides the speak() method to print \"Bark!\"."
      ],
      "metadata": {
        "id": "xVPWILthk0gH"
      }
    },
    {
      "cell_type": "code",
      "source": [
        "# Parent class\n",
        "class Animal:\n",
        "    def speak(self):\n",
        "        print(\"This is a generic animal sound\")\n",
        "# Child class\n",
        "class Dog(Animal):\n",
        "    def speak(self):\n",
        "        print(\"Bark!\")\n",
        "animal = Animal()\n",
        "animal.speak()\n",
        "dog = Dog()\n",
        "dog.speak()"
      ],
      "metadata": {
        "colab": {
          "base_uri": "https://localhost:8080/"
        },
        "id": "sbx8htpxlDQN",
        "outputId": "89055249-45e1-4ae4-9ea9-9cafc8a4c9dd"
      },
      "execution_count": 47,
      "outputs": [
        {
          "output_type": "stream",
          "name": "stdout",
          "text": [
            "This is a generic animal sound\n",
            "Bark!\n"
          ]
        }
      ]
    },
    {
      "cell_type": "markdown",
      "source": [
        "**2.** Write a program to create an abstract class Shape with a method area(). Derive\n",
        "classes Circle and Rectangle from it and implement the area() method in both."
      ],
      "metadata": {
        "id": "N-j0ZHQ_lPbB"
      }
    },
    {
      "cell_type": "code",
      "source": [
        "from abc import ABC, abstractmethod\n",
        "\n",
        "# Abstract class\n",
        "class Shape(ABC):\n",
        "    @abstractmethod\n",
        "    def area(self):\n",
        "        pass\n",
        "# Circle class\n",
        "class Circle(Shape):\n",
        "    def __init__(self, radius):\n",
        "        self.radius = radius\n",
        "    def area(self):\n",
        "        return 3.14 * self.radius * self.radius\n",
        "# Rectangle class\n",
        "class Rectangle(Shape):\n",
        "    def __init__(self, length, width):\n",
        "        self.length = length\n",
        "        self.width = width\n",
        "    def area(self):\n",
        "        return self.length * self.width\n",
        "c = Circle(5)\n",
        "r = Rectangle(4, 6)\n",
        "print(\"Circle area:\", c.area())\n",
        "print(\"Rectangle area:\", r.area())"
      ],
      "metadata": {
        "colab": {
          "base_uri": "https://localhost:8080/"
        },
        "id": "Vyyr2NRUllvF",
        "outputId": "58312faa-e185-4ba6-a4a6-b936f0d801ae"
      },
      "execution_count": 49,
      "outputs": [
        {
          "output_type": "stream",
          "name": "stdout",
          "text": [
            "Circle area: 78.5\n",
            "Rectangle area: 24\n"
          ]
        }
      ]
    },
    {
      "cell_type": "markdown",
      "source": [
        "**3**. Implement a multi-level inheritance scenario where a class Vehicle has an\n",
        "attribute type. Derive a class Car and further derive a class ElectricCar that adds a\n",
        "battery attribute\n"
      ],
      "metadata": {
        "id": "l2_Gk1srmMfm"
      }
    },
    {
      "cell_type": "code",
      "source": [
        "# Parent class\n",
        "class Vehicle:\n",
        "    def __init__(self, type):\n",
        "        self.type = type\n",
        "# Child class\n",
        "class Car(Vehicle):\n",
        "    def __init__(self, type, model):\n",
        "        super().__init__(type)\n",
        "        self.model = model\n",
        "# Grandchild class\n",
        "class ElectricCar(Car):\n",
        "    def __init__(self, type, model, battery):\n",
        "        super().__init__(type, model)\n",
        "        self.battery = battery\n",
        "ecar = ElectricCar(\"Car\", \"Tesla Model 3\", \"75 kWh\")\n",
        "print(\"Type:\", ecar.type)\n",
        "print(\"Model:\", ecar.model)\n",
        "print(\"Battery:\", ecar.battery)"
      ],
      "metadata": {
        "colab": {
          "base_uri": "https://localhost:8080/"
        },
        "id": "2hiEp_eHmPiV",
        "outputId": "c0e47f62-3246-4b81-cc81-6de6e5e737b3"
      },
      "execution_count": 51,
      "outputs": [
        {
          "output_type": "stream",
          "name": "stdout",
          "text": [
            "Type: Car\n",
            "Model: Tesla Model 3\n",
            "Battery: 75 kWh\n"
          ]
        }
      ]
    },
    {
      "cell_type": "markdown",
      "source": [
        "**4**. Demonstrate polymorphism by creating a base class Bird with a method fly().\n",
        "Create two derived classes Sparrow and Penguin that override the fly() method."
      ],
      "metadata": {
        "id": "R_w_G9XJmj-c"
      }
    },
    {
      "cell_type": "code",
      "source": [
        "# Base class\n",
        "class Bird:\n",
        "    def fly(self):\n",
        "        print(\"Some birds can fly\")\n",
        "# Derived class Sparrow\n",
        "class Sparrow(Bird):\n",
        "    def fly(self):\n",
        "        print(\"Sparrow can fly high\")\n",
        "# Derived class Penguin\n",
        "class Penguin(Bird):\n",
        "    def fly(self):\n",
        "        print(\"Penguin cannot fly\")\n",
        "birds = [Sparrow(), Penguin()]\n",
        "for bird in birds:\n",
        "    bird.fly()"
      ],
      "metadata": {
        "colab": {
          "base_uri": "https://localhost:8080/"
        },
        "id": "O8M179O0mnj0",
        "outputId": "9e95c4f2-2215-4663-a649-f0000b450530"
      },
      "execution_count": 54,
      "outputs": [
        {
          "output_type": "stream",
          "name": "stdout",
          "text": [
            "Sparrow can fly high\n",
            "Penguin cannot fly\n"
          ]
        }
      ]
    },
    {
      "cell_type": "markdown",
      "source": [
        "**5**. Write a program to demonstrate encapsulation by creating a class BankAccount\n",
        "with private attributes balance and methods to deposit, withdraw, and check\n",
        "balance.\n"
      ],
      "metadata": {
        "id": "sILNwWSom9zB"
      }
    },
    {
      "cell_type": "code",
      "source": [
        "# Encapsulation example\n",
        "class BankAccount:\n",
        "    def __init__(self, balance):\n",
        "        self.__balance = balance # private attribute\n",
        "    def deposit(self, amount):\n",
        "        self.__balance += amount\n",
        "        print(f\"Deposited: {amount}\")\n",
        "    def withdraw(self, amount):\n",
        "        if amount <= self.__balance:\n",
        "            self.__balance -= amount\n",
        "            print(f\"Withdrawn: {amount}\")\n",
        "        else:\n",
        "            print(\"Insufficient balance\")\n",
        "    def check_balance(self):\n",
        "        print(f\"Balance: {self.__balance}\")\n",
        "account = BankAccount(2000)\n",
        "account.deposit(500)\n",
        "account.withdraw(300)\n",
        "account.check_balance()"
      ],
      "metadata": {
        "colab": {
          "base_uri": "https://localhost:8080/"
        },
        "id": "UQyyd9hgnFlK",
        "outputId": "8c75269a-4fa5-401c-d114-b50da2900e92"
      },
      "execution_count": 59,
      "outputs": [
        {
          "output_type": "stream",
          "name": "stdout",
          "text": [
            "Deposited: 500\n",
            "Withdrawn: 300\n",
            "Balance: 2200\n"
          ]
        }
      ]
    },
    {
      "cell_type": "markdown",
      "source": [
        "**6**. Demonstrate runtime polymorphism using a method play() in a base class\n",
        "Instrument. Derive classes Guitar and Piano that implement their own version of\n",
        "play().\n"
      ],
      "metadata": {
        "id": "P36hd-VpoHTe"
      }
    },
    {
      "cell_type": "code",
      "source": [
        "# Base class\n",
        "class Instrument:\n",
        "    def play(self):\n",
        "        print(\"Playing instrument\")\n",
        "# Derived class Guitar\n",
        "class Guitar(Instrument):\n",
        "    def play(self):\n",
        "        print(\"Playing guitar\")\n",
        "# Derived class Piano\n",
        "class Piano(Instrument):\n",
        "    def play(self):\n",
        "        print(\"Playing piano\")\n",
        "# Testing runtime polymorphism\n",
        "instruments = [Guitar(), Piano()]\n",
        "for instrument in instruments:\n",
        "    instrument.play()"
      ],
      "metadata": {
        "colab": {
          "base_uri": "https://localhost:8080/"
        },
        "id": "GguLd30noOa_",
        "outputId": "0d4b71ca-d00d-40b7-8ce6-9770709f7b4e"
      },
      "execution_count": 62,
      "outputs": [
        {
          "output_type": "stream",
          "name": "stdout",
          "text": [
            "Playing guitar\n",
            "Playing piano\n"
          ]
        }
      ]
    },
    {
      "cell_type": "markdown",
      "source": [
        "**7**. Create a class MathOperations with a class method add_numbers() to add two\n",
        "numbers and a static method subtract_numbers() to subtract two numbers."
      ],
      "metadata": {
        "id": "Gd9HG4twpKvf"
      }
    },
    {
      "cell_type": "code",
      "source": [
        "# Class demonstrating classmethod and staticmethod\n",
        "class MathOperations:\n",
        "    @classmethod\n",
        "    def add_numbers(cls, a, b):\n",
        "        return a + b\n",
        "    @staticmethod\n",
        "    def subtract_numbers(a, b):\n",
        "        return a - b\n",
        "print(\"Addition:\", MathOperations.add_numbers(20, 4))\n",
        "print(\"Subtraction:\", MathOperations.subtract_numbers(10, 5))"
      ],
      "metadata": {
        "colab": {
          "base_uri": "https://localhost:8080/"
        },
        "id": "Kt35P9HPpRnf",
        "outputId": "6a3da2fe-38a9-440d-a156-dfe17a2c40b6"
      },
      "execution_count": 65,
      "outputs": [
        {
          "output_type": "stream",
          "name": "stdout",
          "text": [
            "Addition: 24\n",
            "Subtraction: 5\n"
          ]
        }
      ]
    },
    {
      "cell_type": "markdown",
      "source": [
        "**8**. Implement a class Person with a class method to count the total number of\n",
        "persons created."
      ],
      "metadata": {
        "id": "d4vDeuGup0FQ"
      }
    },
    {
      "cell_type": "code",
      "source": [
        "# Class demonstrating counting instances using class method\n",
        "class Person:\n",
        "    count = 0 # Class variable to track number of persons\n",
        "    def __init__(self, name):\n",
        "        self.name = name\n",
        "        Person.count += 1\n",
        "    @classmethod\n",
        "    def total_persons(cls):\n",
        "        return cls.count\n",
        "p1 = Person(\"prashant\")\n",
        "p2 = Person(\"praveen\")\n",
        "p3 = Person(\"manju\")\n",
        "print(\"Total persons created:\", Person.total_persons())"
      ],
      "metadata": {
        "colab": {
          "base_uri": "https://localhost:8080/"
        },
        "id": "qX2PN0TMp8Le",
        "outputId": "15ce504e-08d4-43c8-bbc9-a11705c31d73"
      },
      "execution_count": 68,
      "outputs": [
        {
          "output_type": "stream",
          "name": "stdout",
          "text": [
            "Total persons created: 3\n"
          ]
        }
      ]
    },
    {
      "cell_type": "markdown",
      "source": [
        "**9**. Write a class Fraction with attributes numerator and denominator. Override the str\n",
        "method to display the fraction as \"numerator/denominator\"."
      ],
      "metadata": {
        "id": "D61TQnNEqiPn"
      }
    },
    {
      "cell_type": "code",
      "source": [
        "# Class demonstrating __str__ method\n",
        "class Fraction:\n",
        "    def __init__(self, numerator, denominator):\n",
        "        self.numerator = numerator\n",
        "        self.denominator = denominator\n",
        "    def __str__(self):\n",
        "        return f\"{self.numerator}/{self.denominator}\"\n",
        "f = Fraction(3, 4)\n",
        "print(f)"
      ],
      "metadata": {
        "colab": {
          "base_uri": "https://localhost:8080/"
        },
        "id": "O5RNlBr2qrQr",
        "outputId": "d5dd5ca1-3176-4c74-af34-734b24a421df"
      },
      "execution_count": 70,
      "outputs": [
        {
          "output_type": "stream",
          "name": "stdout",
          "text": [
            "3/4\n"
          ]
        }
      ]
    },
    {
      "cell_type": "markdown",
      "source": [
        "**10**. Demonstrate operator overloading by creating a class Vector and overriding the\n",
        "add method to add two vectors"
      ],
      "metadata": {
        "id": "Dm3LUssUq-6F"
      }
    },
    {
      "cell_type": "code",
      "source": [
        "# Class demonstrating operator overloading\n",
        "class Vector:\n",
        "    def __init__(self, x, y):\n",
        "        self.x = x\n",
        "        self.y = y\n",
        "    # Overloading the + operator\n",
        "    def __add__(self, other):\n",
        "        return Vector(self.x + other.x, self.y + other.y)\n",
        "    def __str__(self):\n",
        "        return f\"({self.x}, {self.y})\"\n",
        "v1 = Vector(2, 3)\n",
        "v2 = Vector(4, 5)\n",
        "v3 = v1 + v2\n",
        "print(\"Vector addition:\", v3)"
      ],
      "metadata": {
        "colab": {
          "base_uri": "https://localhost:8080/"
        },
        "id": "vfnO_GeNrKPt",
        "outputId": "9a53643b-a180-44e9-f9ac-bcb11204492f"
      },
      "execution_count": 72,
      "outputs": [
        {
          "output_type": "stream",
          "name": "stdout",
          "text": [
            "Vector addition: (6, 8)\n"
          ]
        }
      ]
    },
    {
      "cell_type": "markdown",
      "source": [
        "**11**. Create a class Person with attributes name and age. Add a method greet() that\n",
        "prints \"Hello, my name is {name} and I am {age} years old.\""
      ],
      "metadata": {
        "id": "4_NFjT43ra8s"
      }
    },
    {
      "cell_type": "code",
      "source": [
        "# Simple class with instance attributes and method\n",
        "class Person:\n",
        "    def __init__(self, name, age):\n",
        "        self.name = name\n",
        "        self.age = age\n",
        "    def greet(self):\n",
        "        print(f\"Hello, my name is {self.name} and I am {self.age} years old.\")\n",
        "# Testing\n",
        "p = Person(\"prashant\", 32)\n",
        "p1 = Person(\"praveen\",28)\n",
        "p.greet()\n",
        "p1.greet()"
      ],
      "metadata": {
        "colab": {
          "base_uri": "https://localhost:8080/"
        },
        "id": "5s9gVCHkrdZd",
        "outputId": "ff9f0eff-f106-4d9e-b210-bdd80b967a3a"
      },
      "execution_count": 74,
      "outputs": [
        {
          "output_type": "stream",
          "name": "stdout",
          "text": [
            "Hello, my name is prashant and I am 32 years old.\n",
            "Hello, my name is praveen and I am 28 years old.\n"
          ]
        }
      ]
    },
    {
      "cell_type": "markdown",
      "source": [
        "**12**. Implement a class Student with attributes name and grades. Create a method\n",
        "average_grade() to compute the average of the grades."
      ],
      "metadata": {
        "id": "dcgmstuar3P9"
      }
    },
    {
      "cell_type": "code",
      "source": [
        "# Class demonstrating method to calculate average\n",
        "class Student:\n",
        "    def __init__(self, name, grades):\n",
        "        self.name = name\n",
        "        self.grades = grades # List of grades\n",
        "    def average_grade(self):\n",
        "        return sum(self.grades) / len(self.grades) if self.grades else 0\n",
        "s = Student(\"prashant\", [96, 82, 80, 76])\n",
        "print(\"Average grade:\", s.average_grade())"
      ],
      "metadata": {
        "colab": {
          "base_uri": "https://localhost:8080/"
        },
        "id": "3BrwkACZr9CX",
        "outputId": "ad8d3210-07cd-471a-ba8e-17d1e7d03f29"
      },
      "execution_count": 77,
      "outputs": [
        {
          "output_type": "stream",
          "name": "stdout",
          "text": [
            "Average grade: 83.5\n"
          ]
        }
      ]
    },
    {
      "cell_type": "markdown",
      "source": [
        "**13**. Create a class Rectangle with methods set_dimensions() to set the dimensions\n",
        "and area() to calculate the area.\n"
      ],
      "metadata": {
        "id": "F5TV2PBXseMC"
      }
    },
    {
      "cell_type": "code",
      "source": [
        "# Rectangle class with set_dimensions and area methods\n",
        "class Rectangle:\n",
        "    def set_dimensions(self, length, width):\n",
        "        self.length = length\n",
        "        self.width = width\n",
        "    def area(self):\n",
        "        return self.length * self.width\n",
        "# Testing\n",
        "rect = Rectangle()\n",
        "rect.set_dimensions(5, 3)\n",
        "print(\"Area of rectangle:\", rect.area())"
      ],
      "metadata": {
        "colab": {
          "base_uri": "https://localhost:8080/"
        },
        "id": "h9jjLgxjslYZ",
        "outputId": "9c766cdd-b881-4744-dc0b-e7b74f53a33a"
      },
      "execution_count": 79,
      "outputs": [
        {
          "output_type": "stream",
          "name": "stdout",
          "text": [
            "Area of rectangle: 15\n"
          ]
        }
      ]
    },
    {
      "cell_type": "markdown",
      "source": [
        "**14**. Create a class Employee with a method calculate_salary() that computes the\n",
        "salary based on hours worked and hourly rate. Create a derived class Manager that\n",
        "adds a bonus to the salary"
      ],
      "metadata": {
        "id": "12I42D7rswbz"
      }
    },
    {
      "cell_type": "code",
      "source": [
        "# Base class\n",
        "class Employee:\n",
        "    def __init__(self, name, hours_worked, hourly_rate):\n",
        "        self.name = name\n",
        "        self.hours_worked = hours_worked\n",
        "        self.hourly_rate = hourly_rate\n",
        "    def calculate_salary(self):\n",
        "        return self.hours_worked * self.hourly_rate\n",
        "# Derived class\n",
        "class Manager(Employee):\n",
        "    def __init__(self, name, hours_worked, hourly_rate, bonus):\n",
        "        super().__init__(name, hours_worked, hourly_rate)\n",
        "        self.bonus = bonus\n",
        "    def calculate_salary(self):\n",
        "        return super().calculate_salary() + self.bonus\n",
        "# Testing\n",
        "emp = Employee(\"Ritesh\", 50, 20)\n",
        "mgr = Manager(\"Aditi\", 50, 20, 500)\n",
        "print(\"Employee salary:\", emp.calculate_salary())\n",
        "print(\"Manager salary:\", mgr.calculate_salary())"
      ],
      "metadata": {
        "colab": {
          "base_uri": "https://localhost:8080/"
        },
        "id": "JDo-61P9tjoZ",
        "outputId": "7ff86f1f-654a-432d-f7bd-cd0276d1b1bf"
      },
      "execution_count": 86,
      "outputs": [
        {
          "output_type": "stream",
          "name": "stdout",
          "text": [
            "Employee salary: 1000\n",
            "Manager salary: 1500\n"
          ]
        }
      ]
    },
    {
      "cell_type": "markdown",
      "source": [
        "**15**. Create a class Product with attributes name, price, and quantity. Implement a\n",
        "method total_price() that calculates the total price of the product."
      ],
      "metadata": {
        "id": "pWuosbX-t5kk"
      }
    },
    {
      "cell_type": "code",
      "source": [
        "# Product class with total_price method\n",
        "class Product:\n",
        "    def __init__(self, name, price, quantity):\n",
        "        self.name = name\n",
        "        self.price = price\n",
        "        self.quantity = quantity\n",
        "    def total_price(self):\n",
        "        return self.price * self.quantity\n",
        "# Testing\n",
        "p = Product(\"mobile\", 2400, 5)\n",
        "print(\"Total price:\", p.total_price())"
      ],
      "metadata": {
        "colab": {
          "base_uri": "https://localhost:8080/"
        },
        "id": "qPXOi-15uCeX",
        "outputId": "7a4807a7-48dc-4597-9632-c7e1f93731bc"
      },
      "execution_count": 89,
      "outputs": [
        {
          "output_type": "stream",
          "name": "stdout",
          "text": [
            "Total price: 12000\n"
          ]
        }
      ]
    },
    {
      "cell_type": "markdown",
      "source": [
        "**16**. Create a class Animal with an abstract method sound(). Create two derived classes Cow and Sheep that implement the sound() method."
      ],
      "metadata": {
        "id": "D91ofE9Autmk"
      }
    },
    {
      "cell_type": "code",
      "source": [
        "from abc import ABC, abstractmethod\n",
        "# Abstract class\n",
        "class Animal(ABC):\n",
        "    @abstractmethod\n",
        "    def sound(self):\n",
        "        pass\n",
        "# Derived class Cow\n",
        "class Cow(Animal):\n",
        "    def sound(self):\n",
        "        print(\"Moo\")\n",
        "# Derived class Sheep\n",
        "class Sheep(Animal):\n",
        "    def sound(self):\n",
        "        print(\"Baa\")\n",
        "cow = Cow()\n",
        "sheep = Sheep()\n",
        "cow.sound()\n",
        "sheep.sound()"
      ],
      "metadata": {
        "colab": {
          "base_uri": "https://localhost:8080/"
        },
        "id": "2VDDRY9ruv9r",
        "outputId": "ddc1c6ae-8fb4-49b5-c811-4a1bd7a13820"
      },
      "execution_count": 91,
      "outputs": [
        {
          "output_type": "stream",
          "name": "stdout",
          "text": [
            "Moo\n",
            "Baa\n"
          ]
        }
      ]
    },
    {
      "cell_type": "markdown",
      "source": [
        "**17**. Create a class Book with attributes title, author, and year_published. Add a\n",
        "method get_book_info() that returns a formatted string with the book's details."
      ],
      "metadata": {
        "id": "w4VFU-prvYRW"
      }
    },
    {
      "cell_type": "code",
      "source": [
        "# Book class with get_book_info method\n",
        "class Book:\n",
        "    def __init__(self, title, author, year_published):\n",
        "        self.title = title\n",
        "        self.author = author\n",
        "        self.year_published = year_published\n",
        "    def get_book_info(self):\n",
        "        return f\"'{self.title}' by {self.author}, published in {self.year_published}\"\n",
        "b = Book(\"his life and inventions\", \"frank lewis Duyer and thomos\", 1910)\n",
        "print(b.get_book_info())"
      ],
      "metadata": {
        "colab": {
          "base_uri": "https://localhost:8080/"
        },
        "id": "7rzyJhqdvdzz",
        "outputId": "bfe2ff0d-f952-4a3e-8b59-d5a58cf1c239"
      },
      "execution_count": 94,
      "outputs": [
        {
          "output_type": "stream",
          "name": "stdout",
          "text": [
            "'his life and inventions' by frank lewis Duyer and thomos, published in 1910\n"
          ]
        }
      ]
    },
    {
      "cell_type": "markdown",
      "source": [
        "**18**. Create a class House with attributes address and price. Create a derived class\n",
        "Mansion that adds an attribute number_of_rooms."
      ],
      "metadata": {
        "id": "-jsWYRwexaGK"
      }
    },
    {
      "cell_type": "code",
      "source": [
        "# Parent class\n",
        "class House:\n",
        "    def __init__(self, address, price):\n",
        "        self.address = address\n",
        "        self.price = price\n",
        "# Derived class\n",
        "class Mansion(House):\n",
        "    def __init__(self, address, price, number_of_rooms):\n",
        "        super().__init__(address, price)\n",
        "        self.number_of_rooms = number_of_rooms\n",
        "# Testing\n",
        "m = Mansion(\"panchkula road\", 2000000, 15)\n",
        "print(\"Address:\", m.address)\n",
        "print(\"Price:\", m.price)\n",
        "print(\"Number of rooms:\", m.number_of_rooms)"
      ],
      "metadata": {
        "colab": {
          "base_uri": "https://localhost:8080/"
        },
        "id": "SBy3yEaexcfe",
        "outputId": "a78ed5b4-64d1-4ca9-8a2f-c2fa34dc5843"
      },
      "execution_count": 97,
      "outputs": [
        {
          "output_type": "stream",
          "name": "stdout",
          "text": [
            "Address: panchkula road\n",
            "Price: 2000000\n",
            "Number of rooms: 15\n"
          ]
        }
      ]
    },
    {
      "cell_type": "markdown",
      "source": [
        "#        **Python OOPs Assignment** -COMPLETED\n",
        "      \n",
        "\n"
      ],
      "metadata": {
        "id": "4gVuL9AyyMKA"
      }
    }
  ]
}